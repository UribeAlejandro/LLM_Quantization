{
 "cells": [
  {
   "metadata": {},
   "cell_type": "markdown",
   "source": "# Quantization",
   "id": "21709db1e7a439d7"
  },
  {
   "metadata": {},
   "cell_type": "code",
   "source": [
    "from quanto import quantize, freeze, qint8\n",
    "from src.model.utils import compute_module_sizes\n",
    "from transformers import T5Tokenizer, T5ForConditionalGeneration"
   ],
   "id": "5506dead5dc80858",
   "outputs": [],
   "execution_count": null
  },
  {
   "metadata": {},
   "cell_type": "markdown",
   "source": "## Load Model",
   "id": "d69cdebb29e2f36c"
  },
  {
   "metadata": {},
   "cell_type": "code",
   "source": "MODEL_NAME = \"google/flan-t5-small\"",
   "id": "92b5d8395a4a097b",
   "outputs": [],
   "execution_count": null
  },
  {
   "metadata": {},
   "cell_type": "code",
   "source": "tokenizer = T5Tokenizer.from_pretrained(MODEL_NAME)",
   "id": "9518a43b7ef2d723",
   "outputs": [],
   "execution_count": null
  },
  {
   "metadata": {},
   "cell_type": "markdown",
   "source": "## Before Quantization",
   "id": "bffa385c05be7a91"
  },
  {
   "metadata": {},
   "cell_type": "code",
   "source": "model = T5ForConditionalGeneration.from_pretrained(MODEL_NAME)",
   "id": "e576c09157a66793",
   "outputs": [],
   "execution_count": null
  },
  {
   "metadata": {},
   "cell_type": "code",
   "source": [
    "module_sizes = compute_module_sizes(model)\n",
    "print(f\"The model size is {module_sizes[''] * 1e-9} GB\")"
   ],
   "id": "1f6693694e9c0890",
   "outputs": [],
   "execution_count": null
  },
  {
   "metadata": {},
   "cell_type": "markdown",
   "source": "## After Quantization",
   "id": "42e613db51e0fdf5"
  },
  {
   "metadata": {},
   "cell_type": "code",
   "source": "quantize(model, weights=qint8, activations=None)",
   "id": "a9cff0377263c2a7",
   "outputs": [],
   "execution_count": null
  },
  {
   "metadata": {},
   "cell_type": "code",
   "source": "freeze(model)",
   "id": "400a6f33fbb47eef",
   "outputs": [],
   "execution_count": null
  },
  {
   "metadata": {},
   "cell_type": "code",
   "source": [
    "module_sizes = compute_module_sizes(model)\n",
    "print(f\"The model size is {module_sizes[''] * 1e-9} GB\")"
   ],
   "id": "1b28bf2d3c03781f",
   "outputs": [],
   "execution_count": null
  }
 ],
 "metadata": {
  "kernelspec": {
   "display_name": "Python 3",
   "language": "python",
   "name": "python3"
  },
  "language_info": {
   "codemirror_mode": {
    "name": "ipython",
    "version": 2
   },
   "file_extension": ".py",
   "mimetype": "text/x-python",
   "name": "python",
   "nbconvert_exporter": "python",
   "pygments_lexer": "ipython2",
   "version": "2.7.6"
  }
 },
 "nbformat": 4,
 "nbformat_minor": 5
}

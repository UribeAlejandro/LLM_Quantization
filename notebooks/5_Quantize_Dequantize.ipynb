{
 "cells": [
  {
   "metadata": {},
   "cell_type": "markdown",
   "source": "# Quantize and Dequantize",
   "id": "7e75d888ef1cbcf5"
  },
  {
   "metadata": {},
   "cell_type": "code",
   "source": [
    "import torch\n",
    "from src.quantize.linear import linear_quantization, dequantization, linear_symmetric_quantization"
   ],
   "id": "initial_id",
   "outputs": [],
   "execution_count": null
  },
  {
   "metadata": {},
   "cell_type": "markdown",
   "source": "## Linear Quantization",
   "id": "d2d91714781f33de"
  },
  {
   "metadata": {},
   "cell_type": "code",
   "source": [
    "tensor = torch.tensor(\n",
    "    [[0.0, 5.9, -256],\n",
    "     [190.5, -910.5, 890.9],\n",
    "     [-190.5, 910.5, -890.9]]\n",
    ")"
   ],
   "id": "abd4ae4eea0bcd59",
   "outputs": [],
   "execution_count": null
  },
  {
   "metadata": {},
   "cell_type": "markdown",
   "source": "### Asymmetric Quantization",
   "id": "f5705ec71ec4e84b"
  },
  {
   "metadata": {},
   "cell_type": "code",
   "source": "quant_tensor, scale, zero_point = linear_quantization(tensor)",
   "id": "90e2ae61f41061a4",
   "outputs": [],
   "execution_count": null
  },
  {
   "metadata": {},
   "cell_type": "code",
   "source": "print(quant_tensor)",
   "id": "9249e0a4f824eb11",
   "outputs": [],
   "execution_count": null
  },
  {
   "metadata": {},
   "cell_type": "code",
   "source": "print(scale)",
   "id": "fb1940df6637736f",
   "outputs": [],
   "execution_count": null
  },
  {
   "metadata": {},
   "cell_type": "code",
   "source": "print(zero_point)",
   "id": "ae7e97d96507ce6b",
   "outputs": [],
   "execution_count": null
  },
  {
   "metadata": {},
   "cell_type": "code",
   "source": "type(scale)",
   "id": "8e9d4849d751db00",
   "outputs": [],
   "execution_count": null
  },
  {
   "metadata": {},
   "cell_type": "code",
   "source": "type(zero_point)",
   "id": "d5fbcf516deb83f5",
   "outputs": [],
   "execution_count": null
  },
  {
   "metadata": {},
   "cell_type": "markdown",
   "source": "### Symmetric Quantization",
   "id": "f9712ea5fa0c986b"
  },
  {
   "metadata": {},
   "cell_type": "code",
   "source": "sym_q_tensor, scale = linear_symmetric_quantization(tensor)",
   "id": "71adbbde46c2d8f1",
   "outputs": [],
   "execution_count": null
  },
  {
   "metadata": {},
   "cell_type": "code",
   "source": "sym_q_tensor",
   "id": "f5c3dd3a56247581",
   "outputs": [],
   "execution_count": null
  },
  {
   "metadata": {},
   "cell_type": "code",
   "source": "scale",
   "id": "b3511e96c5a7b306",
   "outputs": [],
   "execution_count": null
  },
  {
   "metadata": {},
   "cell_type": "markdown",
   "source": "## Dequantization",
   "id": "5ee1fd254d89fb1"
  },
  {
   "metadata": {},
   "cell_type": "code",
   "source": "deq_tensor = dequantization(quant_tensor, scale, zero_point)",
   "id": "f6e198b38f4406cc",
   "outputs": [],
   "execution_count": null
  },
  {
   "metadata": {},
   "cell_type": "code",
   "source": "print(deq_tensor)",
   "id": "9376bf0d3d528bd1",
   "outputs": [],
   "execution_count": null
  },
  {
   "metadata": {},
   "cell_type": "code",
   "source": "deq_tensor.dtype",
   "id": "42070d526cd6a9f1",
   "outputs": [],
   "execution_count": null
  },
  {
   "metadata": {},
   "cell_type": "code",
   "source": "deq_tensor = dequantization(sym_q_tensor, scale, zero_point=0)",
   "id": "5387f3d534fe654e",
   "outputs": [],
   "execution_count": null
  },
  {
   "metadata": {},
   "cell_type": "code",
   "source": "print(deq_tensor)",
   "id": "43ec1d3dae136301",
   "outputs": [],
   "execution_count": null
  },
  {
   "metadata": {},
   "cell_type": "code",
   "source": "deq_tensor.dtype",
   "id": "6c8b6e69fef8714",
   "outputs": [],
   "execution_count": null
  },
  {
   "metadata": {},
   "cell_type": "code",
   "source": "",
   "id": "1350cbf216045e3",
   "outputs": [],
   "execution_count": null
  }
 ],
 "metadata": {
  "kernelspec": {
   "display_name": "Python 3",
   "language": "python",
   "name": "python3"
  },
  "language_info": {
   "codemirror_mode": {
    "name": "ipython",
    "version": 2
   },
   "file_extension": ".py",
   "mimetype": "text/x-python",
   "name": "python",
   "nbconvert_exporter": "python",
   "pygments_lexer": "ipython2",
   "version": "2.7.6"
  }
 },
 "nbformat": 4,
 "nbformat_minor": 5
}

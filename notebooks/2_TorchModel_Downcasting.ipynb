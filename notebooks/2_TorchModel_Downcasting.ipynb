{
 "cells": [
  {
   "metadata": {},
   "cell_type": "markdown",
   "source": "# PyTorch Model Downcasting",
   "id": "a913cb7f6e7db3d1"
  },
  {
   "metadata": {},
   "cell_type": "code",
   "source": [
    "import torch\n",
    "from src.model.DummyModel import DummyModel\n",
    "from src.model.utils import print_param_dtype"
   ],
   "id": "ff0ebf42dbf8f691",
   "outputs": [],
   "execution_count": null
  },
  {
   "metadata": {},
   "cell_type": "markdown",
   "source": "## Load the model",
   "id": "dcbc1d49ff508883"
  },
  {
   "metadata": {},
   "cell_type": "code",
   "source": "model = DummyModel()",
   "id": "79d3ae6e1c741bfe",
   "outputs": [],
   "execution_count": null
  },
  {
   "metadata": {},
   "cell_type": "code",
   "source": [
    "half = model.half()\n",
    "model_bfloat16 = model.bfloat16()\n",
    "model_to_fp16 = model.to(torch.float16)\n",
    "model_to_b16 = model.to(torch.bfloat16)"
   ],
   "id": "ce59426d933401fd",
   "outputs": [],
   "execution_count": null
  },
  {
   "metadata": {},
   "cell_type": "code",
   "source": "print_param_dtype(half)",
   "id": "2b210049782bfd84",
   "outputs": [],
   "execution_count": null
  },
  {
   "metadata": {},
   "cell_type": "code",
   "source": "print_param_dtype(model_bfloat16)",
   "id": "5b276a7748013092",
   "outputs": [],
   "execution_count": null
  },
  {
   "metadata": {},
   "cell_type": "code",
   "source": "print_param_dtype(model_to_fp16)",
   "id": "7d993551ae3f0599",
   "outputs": [],
   "execution_count": null
  },
  {
   "metadata": {},
   "cell_type": "code",
   "source": "print_param_dtype(model_to_b16)",
   "id": "f5f7f365347434ba",
   "outputs": [],
   "execution_count": null
  }
 ],
 "metadata": {
  "kernelspec": {
   "display_name": "Python 3",
   "language": "python",
   "name": "python3"
  },
  "language_info": {
   "codemirror_mode": {
    "name": "ipython",
    "version": 2
   },
   "file_extension": ".py",
   "mimetype": "text/x-python",
   "name": "python",
   "nbconvert_exporter": "python",
   "pygments_lexer": "ipython2",
   "version": "2.7.6"
  }
 },
 "nbformat": 4,
 "nbformat_minor": 5
}

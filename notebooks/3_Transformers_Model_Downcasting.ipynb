{
 "cells": [
  {
   "metadata": {},
   "cell_type": "markdown",
   "source": "# Transformers (Hugging Face) Model - Downcasting",
   "id": "4b4dfc2e8531b8ad"
  },
  {
   "metadata": {},
   "cell_type": "code",
   "source": [
    "import torch\n",
    "from transformers import BlipForConditionalGeneration, BlipProcessor\n",
    "from src.model.utils import load_image, get_generation\n",
    "from IPython.display import display"
   ],
   "id": "bedda8b0ef1cc578",
   "outputs": [],
   "execution_count": null
  },
  {
   "metadata": {},
   "cell_type": "markdown",
   "source": "## Load Model",
   "id": "3b1f7a9f90f4e51d"
  },
  {
   "metadata": {},
   "cell_type": "code",
   "source": "model_name = \"Salesforce/blip-image-captioning-base\"",
   "id": "1e75f69694847907",
   "outputs": [],
   "execution_count": null
  },
  {
   "metadata": {},
   "cell_type": "code",
   "source": "model = BlipForConditionalGeneration.from_pretrained(model_name)",
   "id": "db86a09252ca8534",
   "outputs": [],
   "execution_count": null
  },
  {
   "metadata": {},
   "cell_type": "markdown",
   "source": "## Memory Footprint",
   "id": "5b1b0cb19dd08492"
  },
  {
   "metadata": {},
   "cell_type": "code",
   "source": "fp32_mem_footprint = model.get_memory_footprint()",
   "id": "ce0026394113e535",
   "outputs": [],
   "execution_count": null
  },
  {
   "metadata": {},
   "cell_type": "code",
   "source": [
    "print(\"Footprint of the fp32 model in bytes: \",\n",
    "      fp32_mem_footprint)\n",
    "print(\"Footprint of the fp32 model in MBs: \", \n",
    "      fp32_mem_footprint/1e+6)"
   ],
   "id": "9463ddedee7f12c8",
   "outputs": [],
   "execution_count": null
  },
  {
   "metadata": {},
   "cell_type": "markdown",
   "source": "## Downcasting",
   "id": "6b2b01e8064f2ff6"
  },
  {
   "metadata": {},
   "cell_type": "code",
   "source": [
    "model_bf16 = BlipForConditionalGeneration.from_pretrained(\n",
    "                                               model_name,\n",
    "                               torch_dtype=torch.bfloat16\n",
    ")"
   ],
   "id": "dd62f969edd70889",
   "outputs": [],
   "execution_count": null
  },
  {
   "metadata": {},
   "cell_type": "code",
   "source": "bf16_mem_footprint = model_bf16.get_memory_footprint()",
   "id": "c8ff5ace6b24a420",
   "outputs": [],
   "execution_count": null
  },
  {
   "metadata": {},
   "cell_type": "markdown",
   "source": "## Memory Footprint Reduction",
   "id": "64da19502c75ed21"
  },
  {
   "metadata": {},
   "cell_type": "code",
   "source": [
    "print(\"Footprint of the fp32 model in bytes: \",\n",
    "      bf16_mem_footprint)\n",
    "print(\"Footprint of the fp32 model in MBs: \", \n",
    "      bf16_mem_footprint/1e+6)"
   ],
   "id": "fd3264f393548b96",
   "outputs": [],
   "execution_count": null
  },
  {
   "metadata": {},
   "cell_type": "code",
   "source": [
    "print(\"Memory footprint reduction: \", \n",
    "      (fp32_mem_footprint - bf16_mem_footprint)/fp32_mem_footprint*100, '%')"
   ],
   "id": "ad60aed18e36a926",
   "outputs": [],
   "execution_count": null
  },
  {
   "metadata": {},
   "cell_type": "markdown",
   "source": "## Model Performance",
   "id": "9968986fc9d37dec"
  },
  {
   "metadata": {},
   "cell_type": "code",
   "source": [
    "img_url = 'https://storage.googleapis.com/sfr-vision-language-research/BLIP/demo.jpg'\n",
    "\n",
    "image = load_image(img_url)\n",
    "display(image.resize((500, 350)))"
   ],
   "id": "176b394bb567d653",
   "outputs": [],
   "execution_count": null
  },
  {
   "metadata": {},
   "cell_type": "code",
   "source": "processor = BlipProcessor.from_pretrained(model_name)",
   "id": "f81f2bfe38a6f15b",
   "outputs": [],
   "execution_count": null
  },
  {
   "metadata": {},
   "cell_type": "code",
   "source": [
    "results_fp32 = get_generation(model, \n",
    "                              processor, \n",
    "                              image, \n",
    "                              torch.float32)"
   ],
   "id": "8261b18763dbcc16",
   "outputs": [],
   "execution_count": null
  },
  {
   "metadata": {},
   "cell_type": "code",
   "source": "print(\"fp32 Model Results:\\n\", results_fp32)",
   "id": "f44b216914b1d514",
   "outputs": [],
   "execution_count": null
  },
  {
   "metadata": {},
   "cell_type": "code",
   "source": [
    "results_bf16 = get_generation(model_bf16, \n",
    "                              processor, \n",
    "                              image, \n",
    "                              torch.bfloat16)"
   ],
   "id": "3e16ba837e6c3d84",
   "outputs": [],
   "execution_count": null
  },
  {
   "metadata": {},
   "cell_type": "code",
   "source": "print(\"bf16 Model Results:\\n\", results_bf16)",
   "id": "92f9734a7b821f27",
   "outputs": [],
   "execution_count": null
  }
 ],
 "metadata": {
  "kernelspec": {
   "display_name": "Python 3",
   "language": "python",
   "name": "python3"
  },
  "language_info": {
   "codemirror_mode": {
    "name": "ipython",
    "version": 2
   },
   "file_extension": ".py",
   "mimetype": "text/x-python",
   "name": "python",
   "nbconvert_exporter": "python",
   "pygments_lexer": "ipython2",
   "version": "2.7.6"
  }
 },
 "nbformat": 4,
 "nbformat_minor": 5
}

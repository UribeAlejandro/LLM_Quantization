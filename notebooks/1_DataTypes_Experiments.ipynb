{
 "cells": [
  {
   "metadata": {},
   "cell_type": "markdown",
   "source": "# PyTorch Data Types",
   "id": "49aae56dd0decfac"
  },
  {
   "metadata": {},
   "cell_type": "code",
   "source": "import torch",
   "id": "initial_id",
   "outputs": [],
   "execution_count": null
  },
  {
   "metadata": {},
   "cell_type": "markdown",
   "source": "## Integers",
   "id": "762ddda3c6799ee"
  },
  {
   "metadata": {},
   "cell_type": "code",
   "source": "torch.iinfo(torch.int8)",
   "id": "95a6111f340d1ea8",
   "outputs": [],
   "execution_count": null
  },
  {
   "metadata": {},
   "cell_type": "code",
   "source": "torch.iinfo(torch.int16)",
   "id": "1dcdfe5d2800137b",
   "outputs": [],
   "execution_count": null
  },
  {
   "metadata": {},
   "cell_type": "code",
   "source": "torch.iinfo(torch.int32)",
   "id": "7262b5eae74f3490",
   "outputs": [],
   "execution_count": null
  },
  {
   "metadata": {},
   "cell_type": "code",
   "source": "torch.iinfo(torch.int64)",
   "id": "e4533b00eae28e9c",
   "outputs": [],
   "execution_count": null
  },
  {
   "metadata": {},
   "cell_type": "markdown",
   "source": "## Unsigned Integers",
   "id": "5edbcffb482802cd"
  },
  {
   "metadata": {},
   "cell_type": "code",
   "source": "torch.iinfo(torch.uint8)",
   "id": "b3a75565d2d65369",
   "outputs": [],
   "execution_count": null
  },
  {
   "metadata": {},
   "cell_type": "markdown",
   "source": "## Floating Point",
   "id": "e4aeddd2aab0e6fc"
  },
  {
   "metadata": {},
   "cell_type": "code",
   "source": "torch.finfo(torch.float16)",
   "id": "c69e3afe53c3ef37",
   "outputs": [],
   "execution_count": null
  },
  {
   "metadata": {},
   "cell_type": "code",
   "source": "torch.finfo(torch.float32)",
   "id": "c1c77ba2a7213f9",
   "outputs": [],
   "execution_count": null
  },
  {
   "metadata": {},
   "cell_type": "code",
   "source": "torch.finfo(torch.float64)",
   "id": "1e0205c813144073",
   "outputs": [],
   "execution_count": null
  },
  {
   "metadata": {},
   "cell_type": "markdown",
   "source": "## B Float",
   "id": "208a53072d9f3208"
  },
  {
   "metadata": {},
   "cell_type": "code",
   "source": "torch.finfo(torch.bfloat16)",
   "id": "f840d60553d15ba8",
   "outputs": [],
   "execution_count": null
  },
  {
   "metadata": {},
   "cell_type": "markdown",
   "source": "## Downcasting",
   "id": "10a5b8feb7fbbaa2"
  },
  {
   "metadata": {},
   "cell_type": "code",
   "source": "fp_32_tensor = torch.rand(10, dtype = torch.float32)",
   "id": "60e0c5a79e14b232",
   "outputs": [],
   "execution_count": null
  },
  {
   "metadata": {},
   "cell_type": "code",
   "source": "fp_32_tensor",
   "id": "1699bbf12727d40d",
   "outputs": [],
   "execution_count": null
  },
  {
   "metadata": {},
   "cell_type": "code",
   "source": "fp_32_tensor.to(torch.float16)",
   "id": "ec4a4ddfc1d63a78",
   "outputs": [],
   "execution_count": null
  },
  {
   "metadata": {},
   "cell_type": "code",
   "source": "fp_32_tensor.to(torch.bfloat16)",
   "id": "2cb3d0cef83fea8d",
   "outputs": [],
   "execution_count": null
  },
  {
   "metadata": {},
   "cell_type": "code",
   "source": "bfloat_16_tensor = torch.rand(10, dtype = torch.bfloat16)",
   "id": "62a04b919891581e",
   "outputs": [],
   "execution_count": null
  },
  {
   "metadata": {},
   "cell_type": "code",
   "source": "torch.dot(fp_32_tensor, fp_32_tensor)",
   "id": "4637519141bf371a",
   "outputs": [],
   "execution_count": null
  },
  {
   "metadata": {},
   "cell_type": "code",
   "source": "torch.dot(bfloat_16_tensor, bfloat_16_tensor)",
   "id": "571e978f4936d415",
   "outputs": [],
   "execution_count": null
  }
 ],
 "metadata": {
  "kernelspec": {
   "display_name": "Python 3",
   "language": "python",
   "name": "python3"
  },
  "language_info": {
   "codemirror_mode": {
    "name": "ipython",
    "version": 2
   },
   "file_extension": ".py",
   "mimetype": "text/x-python",
   "name": "python",
   "nbconvert_exporter": "python",
   "pygments_lexer": "ipython2",
   "version": "2.7.6"
  }
 },
 "nbformat": 4,
 "nbformat_minor": 5
}
